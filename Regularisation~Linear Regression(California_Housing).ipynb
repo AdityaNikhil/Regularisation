{
 "cells": [
  {
   "cell_type": "markdown",
   "metadata": {},
   "source": [
    "# REGULARISATION ~ LINEAR REGRESSION"
   ]
  },
  {
   "cell_type": "code",
   "execution_count": 1,
   "metadata": {},
   "outputs": [],
   "source": [
    "import pandas as pd\n",
    "import numpy as np\n",
    "import matplotlib.pyplot as plt\n",
    "import random\n",
    "from IPython.display import clear_output\n"
   ]
  },
  {
   "cell_type": "code",
   "execution_count": 13,
   "metadata": {},
   "outputs": [],
   "source": [
    "df=pd.read_csv('housing.csv')"
   ]
  },
  {
   "cell_type": "code",
   "execution_count": 15,
   "metadata": {},
   "outputs": [
    {
     "data": {
      "text/plain": [
       "longitude               0\n",
       "latitude                0\n",
       "housing_median_age      0\n",
       "total_rooms             0\n",
       "total_bedrooms        207\n",
       "population              0\n",
       "households              0\n",
       "median_income           0\n",
       "median_house_value      0\n",
       "ocean_proximity         0\n",
       "dtype: int64"
      ]
     },
     "execution_count": 15,
     "metadata": {},
     "output_type": "execute_result"
    }
   ],
   "source": [
    "#Checking For Null values\n",
    "df.isnull().sum()"
   ]
  },
  {
   "cell_type": "code",
   "execution_count": 16,
   "metadata": {},
   "outputs": [],
   "source": [
    "#Dropping all columns consisiting of the Null values \n",
    "df=df.dropna(axis=1)"
   ]
  },
  {
   "cell_type": "code",
   "execution_count": 17,
   "metadata": {},
   "outputs": [
    {
     "data": {
      "text/plain": [
       "longitude             0\n",
       "latitude              0\n",
       "housing_median_age    0\n",
       "total_rooms           0\n",
       "population            0\n",
       "households            0\n",
       "median_income         0\n",
       "median_house_value    0\n",
       "ocean_proximity       0\n",
       "dtype: int64"
      ]
     },
     "execution_count": 17,
     "metadata": {},
     "output_type": "execute_result"
    }
   ],
   "source": [
    "#Checking whether Columns consisting of Null values are dropped or not\n",
    "train.isnull().sum()"
   ]
  },
  {
   "cell_type": "code",
   "execution_count": 19,
   "metadata": {},
   "outputs": [
    {
     "data": {
      "text/plain": [
       "(20640, 9)"
      ]
     },
     "execution_count": 19,
     "metadata": {},
     "output_type": "execute_result"
    }
   ],
   "source": [
    "df.shape"
   ]
  },
  {
   "cell_type": "markdown",
   "metadata": {},
   "source": [
    "# First 10,320 values are taken for Training Set "
   ]
  },
  {
   "cell_type": "code",
   "execution_count": 33,
   "metadata": {},
   "outputs": [],
   "source": [
    "target_train=df['median_house_value'].copy()\n",
    "target_train=target_train[:10320]"
   ]
  },
  {
   "cell_type": "code",
   "execution_count": 39,
   "metadata": {},
   "outputs": [],
   "source": [
    "target_train=np.array(target_train)\n",
    "target_train=target_train.reshape(1,len(target_train))\n"
   ]
  },
  {
   "cell_type": "code",
   "execution_count": 34,
   "metadata": {},
   "outputs": [],
   "source": [
    "features_train=df.drop('median_house_value',axis=1)\n",
    "features_train=features_train.select_dtypes(include=['int32','int64','float32','float64'])\n",
    "features_train=features_train[:10320]"
   ]
  },
  {
   "cell_type": "code",
   "execution_count": 38,
   "metadata": {},
   "outputs": [
    {
     "name": "stdout",
     "output_type": "stream",
     "text": [
      "shape of target in training : (1, 10320)\n",
      "shape of training features : (10320, 7)\n"
     ]
    }
   ],
   "source": [
    "print('shape of target in training :',target_train.shape)\n",
    "print('shape of training features :',features_train.shape)"
   ]
  },
  {
   "cell_type": "code",
   "execution_count": 45,
   "metadata": {},
   "outputs": [],
   "source": [
    "target_train=target_train/target_train.max()\n",
    "features_train=features_train/features_train.max()"
   ]
  },
  {
   "cell_type": "code",
   "execution_count": 191,
   "metadata": {},
   "outputs": [],
   "source": [
    "\n",
    "#Defining Functions\n",
    "def line(m,x,c):\n",
    "    return np.dot(m,x.T)+c\n",
    "def error(m,x,c,y,reg_param):\n",
    "    return np.mean((line(m,x,c)-y)**2)+reg_param*(np.sum(m)**2)\n",
    "def der_slope(m,x,c,y,reg_param):\n",
    "    slope= 2*np.mean(np.multiply((line(m,x,c)-y),x.T),axis=1)\n",
    "    slope=np.array(slope)\n",
    "    slope=slope.reshape(1,7)\n",
    "    return slope+2*reg_param*(np.sum(m))\n",
    "def der_int(m,x,c,y):\n",
    "    return 2*np.mean(line(m,x,c)-y)\n",
    "def acc(m,x,c,y):\n",
    "    return 100-((error(m,x,c,y,reg_param)**2)*100)\n"
   ]
  },
  {
   "cell_type": "markdown",
   "metadata": {},
   "source": [
    "# Error and Accuracy of Training Set"
   ]
  },
  {
   "cell_type": "code",
   "execution_count": 192,
   "metadata": {},
   "outputs": [
    {
     "name": "stdout",
     "output_type": "stream",
     "text": [
      "error: 0.04137006593005069\n",
      "accuracy: 99.82885176449433\n",
      "iteration: 999\n",
      "m= [[-0.12204016  0.05679308 -0.22574383 -0.5540457  -0.23105727  0.51709558\n",
      "   0.55996762]] c= 0.4887395158571063\n"
     ]
    },
    {
     "data": {
      "image/png": "[encoded data removed]",
      "text/plain": [
       "<Figure size 432x288 with 1 Axes>"
      ]
     },
     "metadata": {
      "needs_background": "light"
     },
     "output_type": "display_data"
    }
   ],
   "source": [
    "m=abs((np.random.randn(1,len(features_train.T))))\n",
    "c=abs(random.random())\n",
    "it=1000\n",
    "lr=0.001\n",
    "reg_param=6\n",
    "cost=[]\n",
    "for i in range(it):\n",
    "    m=m-lr*der_slope(m,features_train,c,target_train,reg_param)\n",
    "    c=c-lr*der_int(m,features_train,c,target_train)\n",
    "    clear_output(True)\n",
    "    cost.append(error(m,features_train,c,target_train,reg_param))\n",
    "    print('error:',error(m,features_train,c,target_train,reg_param))\n",
    "    print('accuracy:',acc(m,features_train,c,target_train))\n",
    "    print('iteration:',i)\n",
    "    print('m=',m,'c=',c)\n",
    "plt.plot(cost)\n",
    "plt.show()"
   ]
  },
  {
   "cell_type": "markdown",
   "metadata": {},
   "source": [
    "# Predicted and Actual values of Training set"
   ]
  },
  {
   "cell_type": "code",
   "execution_count": 101,
   "metadata": {},
   "outputs": [
    {
     "data": {
      "text/plain": [
       "array([[0.72822949, 0.72141698, 0.66729439, ..., 0.94831444, 0.97267769,\n",
       "        0.80693929]])"
      ]
     },
     "execution_count": 101,
     "metadata": {},
     "output_type": "execute_result"
    }
   ],
   "source": [
    "line(m,features_train,c)"
   ]
  },
  {
   "cell_type": "code",
   "execution_count": 102,
   "metadata": {},
   "outputs": [
    {
     "data": {
      "text/plain": [
       "array([[0.90519819, 0.71699857, 0.70419859, ..., 0.90859818, 0.92019816,\n",
       "        0.73059854]])"
      ]
     },
     "execution_count": 102,
     "metadata": {},
     "output_type": "execute_result"
    }
   ],
   "source": [
    "target_train"
   ]
  },
  {
   "cell_type": "markdown",
   "metadata": {},
   "source": [
    "# Remaining 10,320 values are taken for Testing Set"
   ]
  },
  {
   "cell_type": "code",
   "execution_count": 59,
   "metadata": {},
   "outputs": [],
   "source": [
    "target_test=df['median_house_value'].copy()\n",
    "target_test=target_test[10320:]"
   ]
  },
  {
   "cell_type": "code",
   "execution_count": 62,
   "metadata": {},
   "outputs": [],
   "source": [
    "features_test=df.drop('median_house_value',axis=1).copy()\n",
    "features_test=features_test.select_dtypes(include=['int32','int64','float32','float64'])\n",
    "features_test=features_test[10320:]"
   ]
  },
  {
   "cell_type": "code",
   "execution_count": 65,
   "metadata": {},
   "outputs": [],
   "source": [
    "target_test=np.array(target_test)\n",
    "target_test=target_test.reshape(1,len(target_test))"
   ]
  },
  {
   "cell_type": "code",
   "execution_count": 66,
   "metadata": {},
   "outputs": [
    {
     "name": "stdout",
     "output_type": "stream",
     "text": [
      "shape of target in testing : (1, 10320)\n",
      "shape of testing features : (10320, 7)\n"
     ]
    }
   ],
   "source": [
    "print('shape of target in testing :',target_test.shape)\n",
    "print('shape of testing features :',features_test.shape)"
   ]
  },
  {
   "cell_type": "code",
   "execution_count": 193,
   "metadata": {},
   "outputs": [
    {
     "data": {
      "text/plain": [
       "(10320, 7)"
      ]
     },
     "execution_count": 193,
     "metadata": {},
     "output_type": "execute_result"
    }
   ],
   "source": [
    "m_train= np.mat([[-0.12204016  ,0.05679308, -0.22574383, -0.5540457 , -0.23105727  ,0.51709558,0.55996762]])\n",
    "c_train= 0.4887395158571063\n",
    "m_train=np.array(m_train)\n",
    "features_test.shape"
   ]
  },
  {
   "cell_type": "code",
   "execution_count": 194,
   "metadata": {},
   "outputs": [],
   "source": [
    "target_test=target_test/target_test.max()\n",
    "features_test=features_test/features_test.max()\n"
   ]
  },
  {
   "cell_type": "markdown",
   "metadata": {},
   "source": [
    "# Error and Accuracy of Testing set"
   ]
  },
  {
   "cell_type": "code",
   "execution_count": 195,
   "metadata": {},
   "outputs": [
    {
     "name": "stdout",
     "output_type": "stream",
     "text": [
      "accuracy: 80.23712762598154\n",
      "error : 0.044817900980306476\n"
     ]
    }
   ],
   "source": [
    "\n",
    "def line(m,x,c):\n",
    "    return np.dot(m,x.T)+c\n",
    "def error(m,x,c,y):\n",
    "    return np.mean((line(m,x,c)-y)**2)\n",
    "def acc(m,x,c,y):\n",
    "    return 100-((error(m,x,c,y)/np.mean(y**2))*100)\n",
    "print('accuracy:',acc(m_train,features_test,c_train,target_test))\n",
    "print('error :',error(m_train,features_test,c_train,target_test))"
   ]
  },
  {
   "cell_type": "markdown",
   "metadata": {},
   "source": [
    "# Predicted and Actual Values of Testing set"
   ]
  },
  {
   "cell_type": "code",
   "execution_count": 158,
   "metadata": {},
   "outputs": [
    {
     "name": "stdout",
     "output_type": "stream",
     "text": [
      "predicted values of testing data : [[0.23524913 0.25897586 0.24581311 ... 0.27219794 0.27093546 0.26026984]]\n",
      "Actual values of training data : [[0.67119866 0.53199894 0.57639885 ... 0.18459963 0.16939966 0.17879964]]\n"
     ]
    }
   ],
   "source": [
    "print('predicted values of testing data :',line(m_train,features_test,c_train))\n",
    "print('Actual values of training data :',target_test)\n"
   ]
  },
  {
   "cell_type": "code",
   "execution_count": null,
   "metadata": {},
   "outputs": [],
   "source": []
  }
 ],
 "metadata": {
  "kernelspec": {
   "display_name": "Python 3",
   "language": "python",
   "name": "python3"
  },
  "language_info": {
   "codemirror_mode": {
    "name": "ipython",
    "version": 3
   },
   "file_extension": ".py",
   "mimetype": "text/x-python",
   "name": "python",
   "nbconvert_exporter": "python",
   "pygments_lexer": "ipython3",
   "version": "3.7.1"
  }
 },
 "nbformat": 4,
 "nbformat_minor": 2
}
